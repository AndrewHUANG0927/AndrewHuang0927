{
 "cells": [
  {
   "cell_type": "code",
   "execution_count": null,
   "metadata": {},
   "outputs": [],
   "source": [
    "CH3 1."
   ]
  },
  {
   "cell_type": "code",
   "execution_count": null,
   "metadata": {},
   "outputs": [],
   "source": [
    "a=100\n",
    "b=200\n",
    "c,d =a,b\n",
    "print(c,d)\n",
    "print(c)\n",
    "print(d)\n",
    "print()"
   ]
  },
  {
   "cell_type": "code",
   "execution_count": null,
   "metadata": {},
   "outputs": [],
   "source": [
    "a=100\n",
    "b=200\n",
    "c,d =a,b\n",
    "print(c,d)\n",
    "print(c,end='')\n",
    "print(d,end='***')\n",
    "print('over')"
   ]
  },
  {
   "cell_type": "code",
   "execution_count": null,
   "metadata": {},
   "outputs": [],
   "source": [
    "a=100\n",
    "b=200\n",
    "c,d =a,b\n",
    "print(c,d)\n",
    "print(c,end='$')\n",
    "print('and')\n",
    "print(d,end='***')\n",
    "print('over')"
   ]
  },
  {
   "cell_type": "code",
   "execution_count": null,
   "metadata": {},
   "outputs": [],
   "source": [
    "CH3 2."
   ]
  },
  {
   "cell_type": "code",
   "execution_count": null,
   "metadata": {},
   "outputs": [],
   "source": [
    "X=100\n",
    "Y=3\n",
    "print(X*Y)\n",
    "print(X/Y)\n",
    "print(X//Y)\n",
    "print(X%Y)\n",
    "print(X**Y)\n",
    "print(X**0.5)"
   ]
  },
  {
   "cell_type": "code",
   "execution_count": null,
   "metadata": {},
   "outputs": [],
   "source": [
    "str1='Hello,'\n",
    "str2='Prthon.'\n",
    "str3=str1+str2\n",
    "print(str3)\n",
    "a=100\n",
    "b=200\n",
    "c=a+b\n",
    "print(c)"
   ]
  },
  {
   "cell_type": "code",
   "execution_count": null,
   "metadata": {},
   "outputs": [],
   "source": [
    "str1='Hello,'+'Python,Let\\'s learning'\n",
    "str2='Prthon now'\n",
    "str3=str1+str2\n",
    "print(str3)"
   ]
  },
  {
   "cell_type": "code",
   "execution_count": null,
   "metadata": {},
   "outputs": [],
   "source": [
    "CH3 3."
   ]
  },
  {
   "cell_type": "code",
   "execution_count": null,
   "metadata": {},
   "outputs": [],
   "source": [
    "a=100\n",
    "b=3\n",
    "a//=b\n",
    "print(a)\n",
    "\n",
    "a=100\n",
    "a%=b\n",
    "print(a)\n",
    "\n",
    "a=100\n",
    "a/=b\n",
    "print(a)"
   ]
  },
  {
   "cell_type": "code",
   "execution_count": null,
   "metadata": {},
   "outputs": [],
   "source": [
    "a=100\n",
    "b=200\n",
    "print(a,b)\n",
    "\n",
    "b,a=a,b\n",
    "print(a,b)"
   ]
  },
  {
   "cell_type": "code",
   "execution_count": null,
   "metadata": {},
   "outputs": [],
   "source": [
    "a=100\n",
    "b=200\n",
    "print(a,b)\n",
    "temp=a\n",
    "a=b\n",
    "b=temp\n",
    "print(a,b)"
   ]
  },
  {
   "cell_type": "code",
   "execution_count": null,
   "metadata": {},
   "outputs": [],
   "source": [
    "a=eval(input('Enter integer:'))\n",
    "b=a+100\n",
    "print(a,b)\n",
    "\n",
    "str1=(input('Enter a string:'))\n",
    "str2=str1+'i8'\n",
    "print(str2)\n"
   ]
  },
  {
   "cell_type": "code",
   "execution_count": null,
   "metadata": {},
   "outputs": [],
   "source": [
    "CH3 5."
   ]
  },
  {
   "cell_type": "code",
   "execution_count": null,
   "metadata": {},
   "outputs": [],
   "source": [
    "str1='Hello,'+\"Python,Let's learning\"\n",
    "str2='Prthon now'\n",
    "str3=str1+str2\n",
    "print(str3)"
   ]
  },
  {
   "cell_type": "code",
   "execution_count": null,
   "metadata": {},
   "outputs": [],
   "source": [
    "#Convert Fahrenheit to Ceisiues\n",
    "print('Fahrenheit 212 is  Ceisiues degree')\n",
    "print(5/9*212-32)"
   ]
  },
  {
   "cell_type": "code",
   "execution_count": null,
   "metadata": {},
   "outputs": [],
   "source": [
    "#change a and b\n",
    "a=100\n",
    "b=200\n",
    "print(a,b)\n",
    "\n",
    "b=a\n",
    "a=b\n",
    "print(a,b)"
   ]
  },
  {
   "cell_type": "code",
   "execution_count": null,
   "metadata": {},
   "outputs": [],
   "source": [
    "a=input('Enter an integer:')\n",
    "b=a+100\n",
    "print(a,b)"
   ]
  },
  {
   "cell_type": "code",
   "execution_count": null,
   "metadata": {},
   "outputs": [],
   "source": [
    "a=eval(input('Enter integer:'))\n",
    "b=a+100\n",
    "print(a,b)"
   ]
  },
  {
   "cell_type": "code",
   "execution_count": null,
   "metadata": {},
   "outputs": [],
   "source": [
    "#Display two messages\n",
    "\n",
    "a=100\n",
    "b=200\n",
    "print(a,b)"
   ]
  },
  {
   "cell_type": "code",
   "execution_count": null,
   "metadata": {},
   "outputs": [],
   "source": [
    "CH3 6."
   ]
  },
  {
   "cell_type": "code",
   "execution_count": null,
   "metadata": {},
   "outputs": [],
   "source": [
    "41/5"
   ]
  },
  {
   "cell_type": "code",
   "execution_count": null,
   "metadata": {},
   "outputs": [],
   "source": [
    "41//5"
   ]
  },
  {
   "cell_type": "code",
   "execution_count": null,
   "metadata": {},
   "outputs": [],
   "source": [
    "41%5"
   ]
  },
  {
   "cell_type": "code",
   "execution_count": null,
   "metadata": {},
   "outputs": [],
   "source": [
    "50%5"
   ]
  },
  {
   "cell_type": "code",
   "execution_count": null,
   "metadata": {},
   "outputs": [],
   "source": [
    "1%2"
   ]
  },
  {
   "cell_type": "code",
   "execution_count": null,
   "metadata": {},
   "outputs": [],
   "source": [
    "35%3"
   ]
  },
  {
   "cell_type": "code",
   "execution_count": null,
   "metadata": {},
   "outputs": [],
   "source": [
    "45+4*3-12"
   ]
  },
  {
   "cell_type": "code",
   "execution_count": null,
   "metadata": {},
   "outputs": [],
   "source": [
    "45+34%3*(21*3%2)"
   ]
  },
  {
   "cell_type": "code",
   "execution_count": null,
   "metadata": {},
   "outputs": [],
   "source": [
    "6**3-21"
   ]
  },
  {
   "cell_type": "code",
   "execution_count": null,
   "metadata": {},
   "outputs": [],
   "source": [
    "100**0.25*2-29"
   ]
  },
  {
   "cell_type": "code",
   "execution_count": null,
   "metadata": {},
   "outputs": [],
   "source": [
    "CH3 7."
   ]
  },
  {
   "cell_type": "code",
   "execution_count": null,
   "metadata": {},
   "outputs": [],
   "source": [
    "#a=10\n",
    "a+=3"
   ]
  },
  {
   "cell_type": "code",
   "execution_count": null,
   "metadata": {},
   "outputs": [],
   "source": [
    "CH3 8."
   ]
  },
  {
   "cell_type": "code",
   "execution_count": null,
   "metadata": {},
   "outputs": [],
   "source": [
    "#output 1\n",
    "print(1,end='')\n",
    "print(22,end='*****')\n",
    "print(333)\n",
    "print()\n",
    "\n",
    "#output 2\n",
    "print(1,end=\"$\")\n",
    "print(22,end='@@@@@')\n",
    "print(333)\n",
    "print('over')"
   ]
  },
  {
   "cell_type": "code",
   "execution_count": null,
   "metadata": {},
   "outputs": [],
   "source": [
    "CH4 1.\n"
   ]
  },
  {
   "cell_type": "code",
   "execution_count": null,
   "metadata": {},
   "outputs": [],
   "source": [
    "a=-888\n",
    "b=100\n",
    "c=10\n",
    "d=2\n",
    "e=0.5\n",
    "print(abs(a))\n",
    "print(max(a,b,c,d,e))\n",
    "print(min(a,b,c,d,e))\n",
    "print(pow(c,d))\n",
    "print(round(7.5))\n",
    "print(round(6.5))\n",
    "print(int(123.456))\n",
    "print(round(123.456,2))\n",
    "\n"
   ]
  },
  {
   "cell_type": "code",
   "execution_count": null,
   "metadata": {},
   "outputs": [],
   "source": [
    "import math \n",
    "\n",
    "a=math.fabs(-123.45)\n",
    "    print(a)\n",
    "\n",
    "b=math.ceil(8.8)\n",
    "    print(b)\n",
    "\n",
    "c=math.floor(8.8)\n",
    "    print(c)\n",
    "\n",
    "d=math.exp(1)\n",
    "    print(d)\n",
    "\n",
    "e=math.log(100)\n",
    "print(e)\n",
    "\n",
    "f=math.log(100,10)\n",
    "    print(f)\n",
    "\n",
    "g=math.sprt(1000000)\n",
    "    print(g)"
   ]
  },
  {
   "cell_type": "code",
   "execution_count": null,
   "metadata": {},
   "outputs": [],
   "source": [
    "m=math.tan(0)\n",
    "print(m)\n",
    "\n",
    "n=math.tan(2*math.pi)\n",
    "print(n)\n",
    "\n",
    "p=math.degree(2*math.pi)\n",
    "print(p)\n",
    "\n",
    "q=math.radians(360)\n",
    "print(q)"
   ]
  },
  {
   "cell_type": "code",
   "execution_count": null,
   "metadata": {},
   "outputs": [],
   "source": [
    "x='apple i'+str(8)\n",
    "print(x)\n",
    "\n",
    "y=ord('z')\n",
    "print(y)\n",
    "\n",
    "z=chr(100)\n",
    "print(z)"
   ]
  },
  {
   "cell_type": "code",
   "execution_count": null,
   "metadata": {},
   "outputs": [],
   "source": [
    "CH4 2."
   ]
  },
  {
   "cell_type": "code",
   "execution_count": null,
   "metadata": {},
   "outputs": [],
   "source": [
    "f1=log(10000,10)\n",
    "print(f)\n",
    "\n",
    "g1=sqrt(10000)\n",
    "print(g1)\n",
    "\n",
    "h1=tan(0)\n",
    "print(h1)\n",
    "\n",
    "p1=math.maximum(1,2,4,78,300)\n",
    "print(p)\n",
    "\n",
    "q1=math.abs(-101)\n",
    "print(q1)\n",
    "\n",
    "r1=ord(97)\n",
    "print(r1)"
   ]
  },
  {
   "cell_type": "code",
   "execution_count": null,
   "metadata": {},
   "outputs": [],
   "source": [
    "CH5 1"
   ]
  },
  {
   "cell_type": "code",
   "execution_count": null,
   "metadata": {},
   "outputs": [],
   "source": [
    "score=eval(input('Enter your score:'))\n",
    "if score>=60:\n",
    "    score+=10\n",
    "print('you score is %d'%(score))"
   ]
  },
  {
   "cell_type": "code",
   "execution_count": null,
   "metadata": {},
   "outputs": [],
   "source": [
    "score=eval(input('Enter your score:'))\n",
    "\n",
    "if score>=60:\n",
    "    score+=10\n",
    "else:\n",
    "    score+=8\n",
    "print('you score is %d'%(score))"
   ]
  },
  {
   "cell_type": "code",
   "execution_count": null,
   "metadata": {},
   "outputs": [],
   "source": [
    "temperature=eval(input('Enter temperature today:'))\n",
    "if temperature>=28:\n",
    "    print('hot')\n",
    "else:\n",
    "    prinf('comfortable')\n",
    "print('over') "
   ]
  },
  {
   "cell_type": "code",
   "execution_count": null,
   "metadata": {},
   "outputs": [],
   "source": [
    "temperature=eval(input('Enter temperature today:'))\n",
    "if temperature>=28:\n",
    "    print('hot')\n",
    "elif temperature>=22:\n",
    "        print('comfortable')\n",
    "else:\n",
    "     print('cold')\n",
    "print('over')"
   ]
  },
  {
   "cell_type": "code",
   "execution_count": null,
   "metadata": {},
   "outputs": [],
   "source": [
    "temperature=eval(input('Enter temperature today:'))\n",
    "humility=eval(input('Enter temperature today:'))\n",
    "if temperature>=28:\n",
    "     print('hot')\n",
    "elif temperature>=22 and humility>=40and humility<=50:\n",
    "                print('comfortable')\n",
    "else:\n",
    "     print('cold')\n",
    "print('over')"
   ]
  },
  {
   "cell_type": "code",
   "execution_count": null,
   "metadata": {},
   "outputs": [],
   "source": [
    "char=input('Enter a charater:')\n",
    "if char>=\"a\"and char<='z':\n",
    "    print('%c is lowercase character'%(char))\n",
    "elif char>=\"A\"and char<='Z':\n",
    "    print('%c is uppercase character'%(char))\n",
    "else:\n",
    "    print('%c is other character'%(char))"
   ]
  },
  {
   "cell_type": "code",
   "execution_count": null,
   "metadata": {},
   "outputs": [],
   "source": [
    "num=eval(input(\"Enter a\"))\n",
    "if num%2==0:\n",
    "    print('%d'%(num),end='')\n",
    "    print('is even number.')\n",
    "else:\n",
    "    print('%d'%(num),end='')\n",
    "    print('is even number.')    \n",
    "    print('Test is over')       "
   ]
  },
  {
   "cell_type": "code",
   "execution_count": null,
   "metadata": {},
   "outputs": [],
   "source": [
    "CH6 1."
   ]
  },
  {
   "cell_type": "code",
   "execution_count": null,
   "metadata": {},
   "outputs": [],
   "source": [
    "fiveMuit=0\n",
    "k=5\n",
    "while k<=100:\n",
    "    fiveMuit+=k\n",
    "    k+=5\n",
    "    print(fiveMuit)"
   ]
  },
  {
   "cell_type": "code",
   "execution_count": null,
   "metadata": {},
   "outputs": [],
   "source": [
    "for i in range(10):\n",
    "    print(i,end='')\n",
    "    print('')\n",
    "    \n",
    "for i in range(2,10) :\n",
    "    print(i,end='')\n",
    "    print('')\n",
    "    \n",
    "for i in range(1,10,2):\n",
    "    print(i,end='')\n",
    "    print('')\n",
    "    \n",
    "for i in range(9,1,-2):\n",
    "    print(i,end='')\n",
    "    print('')"
   ]
  },
  {
   "cell_type": "code",
   "execution_count": null,
   "metadata": {},
   "outputs": [],
   "source": [
    "for i in range(10):\n",
    "    print('%3d'%(i),end='')\n",
    "    print('')\n",
    "    \n",
    "for i in range(2,10) :\n",
    "    print('%3d'%(i),end='')\n",
    "    print('')\n",
    "    \n",
    "for i in range(1,10,2):\n",
    "    print('%3d'%(i),end='')\n",
    "    print('')\n",
    "    \n",
    "for i in range(9,1,-2):\n",
    "    print('%3d'%(i),end='')\n",
    "    print('')"
   ]
  },
  {
   "cell_type": "code",
   "execution_count": null,
   "metadata": {},
   "outputs": [],
   "source": [
    "total =0\n",
    "num=0\n",
    "while True:\n",
    "    num+=1\n",
    "    total+=num\n",
    "    if total>=5050:\n",
    "        break\n",
    "print('1+2+3+...%d=%d'%(num,total))"
   ]
  },
  {
   "cell_type": "code",
   "execution_count": null,
   "metadata": {},
   "outputs": [],
   "source": [
    "total=0\n",
    "num=1\n",
    "while num<=100:\n",
    "    if num%2==0:\n",
    "        num+=1\n",
    "        continue\n",
    "    total+=num\n",
    "    num+=1\n",
    "print('1+3+5+..+99=',total)"
   ]
  },
  {
   "cell_type": "code",
   "execution_count": null,
   "metadata": {},
   "outputs": [],
   "source": [
    "total=0\n",
    "for i in range(1,101):\n",
    "    if i%2==1:\n",
    "        total+=i\n",
    "    else:\n",
    "            continue\n",
    "            print('1+3+5+..+99=',total)"
   ]
  },
  {
   "cell_type": "code",
   "execution_count": null,
   "metadata": {},
   "outputs": [],
   "source": [
    "for i in range(10):\n",
    "    for j in range(i,10):\n",
    "        print('*',end=\")\n",
    "    print(\")"
   ]
  },
  {
   "cell_type": "code",
   "execution_count": null,
   "metadata": {},
   "outputs": [],
   "source": [
    "for i in range(9):\n",
    "for j in range(i):\n",
    "print('*',end=\")\n",
    "print(\")"
   ]
  },
  {
   "cell_type": "code",
   "execution_count": null,
   "metadata": {},
   "outputs": [],
   "source": [
    "github\n"
   ]
  },
  {
   "cell_type": "code",
   "execution_count": null,
   "metadata": {},
   "outputs": [],
   "source": [
    "\n",
    "print(12345)\n"
   ]
  },
  {
   "cell_type": "code",
   "execution_count": null,
   "metadata": {},
   "outputs": [],
   "source": [
    "type(12345)"
   ]
  },
  {
   "cell_type": "code",
   "execution_count": null,
   "metadata": {},
   "outputs": [],
   "source": [
    "print(123.456)"
   ]
  },
  {
   "cell_type": "code",
   "execution_count": null,
   "metadata": {},
   "outputs": [],
   "source": [
    "type(123.456)"
   ]
  },
  {
   "cell_type": "code",
   "execution_count": null,
   "metadata": {},
   "outputs": [],
   "source": [
    "\n",
    "print(\"Hello\")"
   ]
  },
  {
   "cell_type": "code",
   "execution_count": null,
   "metadata": {},
   "outputs": [],
   "source": [
    "\n",
    "type(\"Hello\")"
   ]
  },
  {
   "cell_type": "code",
   "execution_count": null,
   "metadata": {},
   "outputs": [],
   "source": [
    "print(\"Hello: 12+1\")"
   ]
  },
  {
   "cell_type": "code",
   "execution_count": null,
   "metadata": {},
   "outputs": [],
   "source": [
    "print(\"Hello:\", 12+1)"
   ]
  },
  {
   "cell_type": "code",
   "execution_count": null,
   "metadata": {},
   "outputs": [],
   "source": [
    "print(\"Hello world\")\n",
    "print('Hello world')"
   ]
  },
  {
   "cell_type": "code",
   "execution_count": null,
   "metadata": {},
   "outputs": [],
   "source": [
    "print(\"Hello \\nworld\")"
   ]
  },
  {
   "cell_type": "code",
   "execution_count": null,
   "metadata": {},
   "outputs": [],
   "source": [
    "\n",
    "print(\"Hello \\tworld\")"
   ]
  },
  {
   "cell_type": "code",
   "execution_count": null,
   "metadata": {},
   "outputs": [],
   "source": [
    "print(\"Let's go\")"
   ]
  },
  {
   "cell_type": "code",
   "execution_count": null,
   "metadata": {},
   "outputs": [],
   "source": [
    "\n",
    "print('Let\\'s go')\n"
   ]
  },
  {
   "cell_type": "code",
   "execution_count": null,
   "metadata": {},
   "outputs": [],
   "source": [
    "print(\"Hello\")\n",
    "print(\"world\")\n"
   ]
  },
  {
   "cell_type": "code",
   "execution_count": null,
   "metadata": {},
   "outputs": [],
   "source": [
    "print(\"Hello\", end='***')\n",
    "print(\"world\")"
   ]
  },
  {
   "cell_type": "code",
   "execution_count": null,
   "metadata": {},
   "outputs": [],
   "source": [
    "print(\"Hello***world\")"
   ]
  },
  {
   "cell_type": "code",
   "execution_count": null,
   "metadata": {},
   "outputs": [],
   "source": [
    "i = 0\n",
    "# i += 3\n",
    "i = i + 3\n",
    "print(i)\n",
    "i = i + 3\n",
    "print(i)"
   ]
  },
  {
   "cell_type": "code",
   "execution_count": null,
   "metadata": {},
   "outputs": [],
   "source": [
    "i = 10\n",
    "i *= 10\n",
    "i = i *10\n",
    "print(i)\n",
    "i = i *10\n",
    "print(i)"
   ]
  },
  {
   "cell_type": "code",
   "execution_count": null,
   "metadata": {},
   "outputs": [],
   "source": [
    "\n",
    "k = input(\"請輸入整數\")\n",
    "float(k)+10\n"
   ]
  },
  {
   "cell_type": "code",
   "execution_count": null,
   "metadata": {},
   "outputs": [],
   "source": [
    "import math as ma"
   ]
  },
  {
   "cell_type": "code",
   "execution_count": null,
   "metadata": {},
   "outputs": [],
   "source": [
    "ma.ceil(3.4)\n"
   ]
  },
  {
   "cell_type": "code",
   "execution_count": null,
   "metadata": {},
   "outputs": [],
   "source": [
    "# syntax\n",
    "# if boolean-expression:\n",
    "#     statement(s)"
   ]
  },
  {
   "cell_type": "code",
   "execution_count": null,
   "metadata": {},
   "outputs": [],
   "source": [
    "1 >= 0"
   ]
  },
  {
   "cell_type": "code",
   "execution_count": null,
   "metadata": {},
   "outputs": [],
   "source": [
    "int(1 >= 0)\n"
   ]
  },
  {
   "cell_type": "code",
   "execution_count": null,
   "metadata": {},
   "outputs": [],
   "source": [
    "\n",
    "1 <= 0"
   ]
  },
  {
   "cell_type": "code",
   "execution_count": null,
   "metadata": {},
   "outputs": [],
   "source": [
    "\n",
    "int(1 <= 0)"
   ]
  },
  {
   "cell_type": "code",
   "execution_count": 1,
   "metadata": {},
   "outputs": [
    {
     "name": "stdout",
     "output_type": "stream",
     "text": [
      "hi\n"
     ]
    }
   ],
   "source": [
    "i = -1\n",
    "if(i>=0):\n",
    "    print(i)\n",
    "    print(i)\n",
    "    print(i)\n",
    "print(\"hi\")"
   ]
  },
  {
   "cell_type": "code",
   "execution_count": 2,
   "metadata": {},
   "outputs": [
    {
     "name": "stdout",
     "output_type": "stream",
     "text": [
      "60\n"
     ]
    }
   ],
   "source": [
    "x = 60\n",
    "if (x>60):\n",
    "    x = x + 5\n",
    "    print(x)\n",
    "print(x)"
   ]
  },
  {
   "cell_type": "code",
   "execution_count": 3,
   "metadata": {},
   "outputs": [
    {
     "name": "stdout",
     "output_type": "stream",
     "text": [
      "分母為0\n"
     ]
    }
   ],
   "source": [
    "numer = 10\n",
    "demon = 0\n",
    "if(demon != 0):\n",
    "    ans = numer/ demon\n",
    "else:\n",
    "    ans = \"分母為0\"\n",
    "print(ans)\n"
   ]
  },
  {
   "cell_type": "code",
   "execution_count": 4,
   "metadata": {},
   "outputs": [
    {
     "data": {
      "text/plain": [
       "4"
      ]
     },
     "execution_count": 4,
     "metadata": {},
     "output_type": "execute_result"
    }
   ],
   "source": [
    "10%6"
   ]
  },
  {
   "cell_type": "code",
   "execution_count": 5,
   "metadata": {},
   "outputs": [
    {
     "name": "stdout",
     "output_type": "stream",
     "text": [
      "9 是奇數\n"
     ]
    }
   ],
   "source": [
    "num = 9\n",
    "if(num%2==0):\n",
    "    print(num, \"是偶數\")\n",
    "else:\n",
    "    print(num, \"是奇數\")"
   ]
  },
  {
   "cell_type": "code",
   "execution_count": 6,
   "metadata": {},
   "outputs": [
    {
     "name": "stdout",
     "output_type": "stream",
     "text": [
      "0 是零\n"
     ]
    }
   ],
   "source": [
    "# 偶數, 奇數, 0\n",
    "num = 0\n",
    "if(num==0):\n",
    "    print(num, \"是零\")\n",
    "else:\n",
    "    if(num%2==0):\n",
    "        print(num, \"是偶數\")\n",
    "    else:\n",
    "        print(num, \"是奇數\")"
   ]
  },
  {
   "cell_type": "code",
   "execution_count": 7,
   "metadata": {},
   "outputs": [
    {
     "name": "stdout",
     "output_type": "stream",
     "text": [
      "2 是偶數\n"
     ]
    }
   ],
   "source": [
    "# 偶數, 奇數, 0\n",
    "num = 2\n",
    "if(num==0):\n",
    "    print(num, \"是零\")\n",
    "elif(num%2==0):\n",
    "    print(num, \"是偶數\")\n",
    "else:\n",
    "    print(num, \"是奇數\")\n"
   ]
  },
  {
   "cell_type": "code",
   "execution_count": 8,
   "metadata": {},
   "outputs": [
    {
     "name": "stdout",
     "output_type": "stream",
     "text": [
      "True\n",
      "False\n",
      "True\n"
     ]
    }
   ],
   "source": [
    "a = 1\n",
    "b = 2\n",
    "c = 3\n",
    "d = 4\n",
    "print((a<b))\n",
    "print((c>d))\n",
    "print((a<b)or(c>d))"
   ]
  },
  {
   "cell_type": "code",
   "execution_count": 9,
   "metadata": {},
   "outputs": [
    {
     "name": "stdout",
     "output_type": "stream",
     "text": [
      "False\n",
      "True\n",
      "False\n",
      "True\n"
     ]
    }
   ],
   "source": [
    "score = 85\n",
    "behavior = 80\n",
    "print((score>90))\n",
    "print((behavior>70))\n",
    "print((score>90)and(behavior>70))\n",
    "print((score>90)or(behavior>70))"
   ]
  },
  {
   "cell_type": "code",
   "execution_count": 10,
   "metadata": {},
   "outputs": [
    {
     "name": "stdout",
     "output_type": "stream",
     "text": [
      "True\n",
      "True\n",
      "True\n",
      "True\n"
     ]
    }
   ],
   "source": [
    "score = 85\n",
    "behavior = 80\n",
    "print((score>=85))\n",
    "print((behavior>=80))\n",
    "print((score>=85)and(behavior>=80))\n",
    "print((score>=85)or(behavior>=80))"
   ]
  },
  {
   "cell_type": "code",
   "execution_count": 11,
   "metadata": {},
   "outputs": [
    {
     "name": "stdout",
     "output_type": "stream",
     "text": [
      "False\n",
      "False\n",
      "False\n",
      "False\n"
     ]
    }
   ],
   "source": [
    "score = 85\n",
    "behavior = 80\n",
    "print((score>90))\n",
    "print((behavior>80))\n",
    "print((score>90)and(behavior>80))\n",
    "print((score>90)or(behavior>80))"
   ]
  },
  {
   "cell_type": "code",
   "execution_count": 12,
   "metadata": {},
   "outputs": [
    {
     "name": "stdout",
     "output_type": "stream",
     "text": [
      "3 是奇數\n"
     ]
    }
   ],
   "source": [
    "# 偶數, 奇數, 0\n",
    "num = 3\n",
    "if(num==0):\n",
    "    print(num, \"是零\")\n",
    "elif(num!=0)and(num%2==0):\n",
    "    print(num, \"是偶數\")\n",
    "elif(num!=0)and(num%2!=0):\n",
    "    print(num, \"是奇數\")\n"
   ]
  },
  {
   "cell_type": "code",
   "execution_count": 13,
   "metadata": {},
   "outputs": [],
   "source": [
    "# while condition:\n",
    "#     statements(s)"
   ]
  },
  {
   "cell_type": "code",
   "execution_count": 14,
   "metadata": {},
   "outputs": [
    {
     "name": "stdout",
     "output_type": "stream",
     "text": [
      "1 Hello\n",
      "2 Hello\n",
      "3 Hello\n",
      "4 Hello\n"
     ]
    }
   ],
   "source": [
    "i = 1\n",
    "while(i<5):\n",
    "    print(i, \"Hello\")\n",
    "    i = i + 1"
   ]
  },
  {
   "cell_type": "code",
   "execution_count": 15,
   "metadata": {},
   "outputs": [
    {
     "name": "stdout",
     "output_type": "stream",
     "text": [
      "1 Hello\n",
      "2 Hello\n",
      "3 Hello\n",
      "4 Hello\n"
     ]
    }
   ],
   "source": [
    "for i in range(1, 4+1):\n",
    "    print(i, \"Hello\")"
   ]
  },
  {
   "cell_type": "code",
   "execution_count": 16,
   "metadata": {},
   "outputs": [
    {
     "name": "stdout",
     "output_type": "stream",
     "text": [
      "15\n",
      "6\n"
     ]
    }
   ],
   "source": [
    "i = 1\n",
    "total = 0\n",
    "while(i<=5):\n",
    "    total = total + i\n",
    "#     print(i, total)\n",
    "    i = i + 1\n",
    "print(total)\n",
    "print(i)"
   ]
  },
  {
   "cell_type": "code",
   "execution_count": 17,
   "metadata": {},
   "outputs": [
    {
     "name": "stdout",
     "output_type": "stream",
     "text": [
      "15\n",
      "5\n"
     ]
    }
   ],
   "source": [
    "total = 0\n",
    "for i in range(1, 5+1):\n",
    "    total = total + i\n",
    "print(total)\n",
    "print(i)"
   ]
  },
  {
   "cell_type": "code",
   "execution_count": 18,
   "metadata": {},
   "outputs": [
    {
     "name": "stdout",
     "output_type": "stream",
     "text": [
      "1 1\n",
      "3 4\n",
      "5 9\n",
      "7 16\n",
      "9 25\n",
      "total: 25\n",
      "i: 11\n"
     ]
    }
   ],
   "source": [
    "i = 1\n",
    "total = 0\n",
    "while(i<=10):\n",
    "    total = total + i\n",
    "    print(i, total)\n",
    "    i = i + 2\n",
    "print(\"total:\", total)\n",
    "print(\"i:\", i)"
   ]
  },
  {
   "cell_type": "code",
   "execution_count": 19,
   "metadata": {},
   "outputs": [
    {
     "name": "stdout",
     "output_type": "stream",
     "text": [
      "1 1\n",
      "3 4\n",
      "5 9\n",
      "7 16\n",
      "9 25\n",
      "total: 25\n",
      "i: 9\n"
     ]
    }
   ],
   "source": [
    "\n",
    "total = 0\n",
    "for i in range(1, 10+1, 2):\n",
    "    total = total + i\n",
    "    print(i, total)\n",
    "print(\"total:\", total)\n",
    "print(\"i:\", i)"
   ]
  },
  {
   "cell_type": "code",
   "execution_count": 20,
   "metadata": {},
   "outputs": [
    {
     "name": "stdout",
     "output_type": "stream",
     "text": [
      "0 0\n",
      "2 2\n",
      "4 6\n",
      "6 12\n",
      "8 20\n",
      "10 30\n",
      "total: 30\n",
      "i: 12\n"
     ]
    }
   ],
   "source": [
    "i = 0\n",
    "total = 0\n",
    "while(i<=10):\n",
    "    total = total + i\n",
    "    print(i, total)\n",
    "    i = i + 2\n",
    "print(\"total:\", total)\n",
    "print(\"i:\", i)"
   ]
  },
  {
   "cell_type": "code",
   "execution_count": 21,
   "metadata": {},
   "outputs": [
    {
     "name": "stdout",
     "output_type": "stream",
     "text": [
      "0 0\n",
      "2 2\n",
      "4 6\n",
      "6 12\n",
      "8 20\n",
      "10 30\n",
      "total: 30\n",
      "i: 10\n"
     ]
    }
   ],
   "source": [
    "total = 0\n",
    "for i in range(0, 10+1, 2):\n",
    "    total = total + i\n",
    "    print(i, total)\n",
    "print(\"total:\", total)\n",
    "print(\"i:\", i)"
   ]
  },
  {
   "cell_type": "code",
   "execution_count": 22,
   "metadata": {},
   "outputs": [
    {
     "name": "stdout",
     "output_type": "stream",
     "text": [
      "0\n",
      "1\n",
      "2\n",
      "3\n",
      "4\n",
      "5\n",
      "6\n",
      "7\n",
      "8\n",
      "9\n"
     ]
    }
   ],
   "source": [
    "for i in range(0, 10):\n",
    "    print(i)"
   ]
  },
  {
   "cell_type": "code",
   "execution_count": 23,
   "metadata": {},
   "outputs": [
    {
     "name": "stdout",
     "output_type": "stream",
     "text": [
      "in loop,  0\n",
      "in loop,  1\n",
      "in loop,  2\n",
      "out of the loop,  2\n"
     ]
    }
   ],
   "source": [
    "for i in range(0, 10):\n",
    "    print(\"in loop, \", i)\n",
    "    if(i >= 2):\n",
    "        break\n",
    "print(\"out of the loop, \", i)\n"
   ]
  },
  {
   "cell_type": "code",
   "execution_count": 24,
   "metadata": {},
   "outputs": [
    {
     "name": "stdout",
     "output_type": "stream",
     "text": [
      "in loop,  0\n",
      "in loop,  1\n",
      "out of the loop,  2\n"
     ]
    }
   ],
   "source": [
    "for i in range(0, 10):\n",
    "    if(i >= 2):\n",
    "        break\n",
    "    print(\"in loop, \", i)\n",
    "print(\"out of the loop, \", i)"
   ]
  },
  {
   "cell_type": "code",
   "execution_count": 25,
   "metadata": {},
   "outputs": [
    {
     "name": "stdout",
     "output_type": "stream",
     "text": [
      "in loop,  0\n",
      "in loop,  1\n",
      "out of the loop,  9\n"
     ]
    }
   ],
   "source": [
    "for i in range(0, 10):\n",
    "    if(i >= 2):\n",
    "        continue\n",
    "    print(\"in loop, \", i)\n",
    "print(\"out of the loop, \", i)"
   ]
  },
  {
   "cell_type": "code",
   "execution_count": 26,
   "metadata": {},
   "outputs": [
    {
     "name": "stdout",
     "output_type": "stream",
     "text": [
      "4\n"
     ]
    }
   ],
   "source": [
    "\n",
    "total = 0\n",
    "number = 0\n",
    "while True:\n",
    "    number = number + 1\n",
    "    total  = total + number\n",
    "    if(total >= 10):\n",
    "        break\n",
    "print(number)"
   ]
  },
  {
   "cell_type": "code",
   "execution_count": 27,
   "metadata": {},
   "outputs": [
    {
     "name": "stdout",
     "output_type": "stream",
     "text": [
      "6\n"
     ]
    }
   ],
   "source": [
    "total = 0\n",
    "number = 0\n",
    "while True:\n",
    "    number = number + 2\n",
    "    total  = total + number\n",
    "    if(total >= 10):\n",
    "        break\n",
    "print(number)"
   ]
  },
  {
   "cell_type": "code",
   "execution_count": 28,
   "metadata": {},
   "outputs": [
    {
     "name": "stdout",
     "output_type": "stream",
     "text": [
      "1 1\n",
      "2 3\n",
      "3 6\n",
      "4 10\n",
      "4\n"
     ]
    }
   ],
   "source": [
    "total = 0\n",
    "number = 0\n",
    "while True:\n",
    "    number = number + 1\n",
    "    total  = total + number\n",
    "    print(number, total)\n",
    "    if(total >= 10):\n",
    "        break\n",
    "print(number)"
   ]
  },
  {
   "cell_type": "code",
   "execution_count": 29,
   "metadata": {},
   "outputs": [
    {
     "name": "stdout",
     "output_type": "stream",
     "text": [
      "2 2\n",
      "4 6\n",
      "6 12\n",
      "6\n"
     ]
    }
   ],
   "source": [
    "total = 0\n",
    "number = 0\n",
    "while True:\n",
    "    number = number + 1\n",
    "    if(number%2!=0):\n",
    "        continue\n",
    "    total  = total + number\n",
    "    print(number, total)\n",
    "    if(total >= 10):\n",
    "        break\n",
    "print(number)"
   ]
  },
  {
   "cell_type": "code",
   "execution_count": 30,
   "metadata": {},
   "outputs": [
    {
     "name": "stdout",
     "output_type": "stream",
     "text": [
      "1 1\n",
      "3 4\n",
      "5 9\n",
      "7 16\n",
      "7\n"
     ]
    }
   ],
   "source": [
    "\n",
    "\n",
    "\n",
    "total = 0\n",
    "number = 0\n",
    "while True:\n",
    "    number = number + 1\n",
    "    if(number%2==0):\n",
    "        continue\n",
    "    total  = total + number\n",
    "    print(number, total)\n",
    "    if(total >= 10):\n",
    "        break\n",
    "print(number)\n"
   ]
  },
  {
   "cell_type": "code",
   "execution_count": 31,
   "metadata": {},
   "outputs": [],
   "source": [
    "import random"
   ]
  },
  {
   "cell_type": "code",
   "execution_count": 32,
   "metadata": {},
   "outputs": [
    {
     "data": {
      "text/plain": [
       "0.8633597050562012"
      ]
     },
     "execution_count": 32,
     "metadata": {},
     "output_type": "execute_result"
    }
   ],
   "source": [
    "random.random()\n"
   ]
  },
  {
   "cell_type": "code",
   "execution_count": 33,
   "metadata": {},
   "outputs": [
    {
     "name": "stdout",
     "output_type": "stream",
     "text": [
      "0 2\n",
      "1 1\n",
      "2 2\n",
      "3 1\n",
      "4 4\n",
      "5 1\n",
      "6 2\n",
      "7 3\n",
      "8 3\n",
      "9 4\n"
     ]
    }
   ],
   "source": [
    "for i in range(0, 10):\n",
    "    print(i, random.randint(1, 4))"
   ]
  },
  {
   "cell_type": "code",
   "execution_count": 34,
   "metadata": {},
   "outputs": [
    {
     "data": {
      "text/plain": [
       "3"
      ]
     },
     "execution_count": 34,
     "metadata": {},
     "output_type": "execute_result"
    }
   ],
   "source": [
    "random.randint(1, 4)"
   ]
  },
  {
   "cell_type": "code",
   "execution_count": 35,
   "metadata": {},
   "outputs": [
    {
     "name": "stdout",
     "output_type": "stream",
     "text": [
      "2\n",
      "2\n",
      "4\n",
      "4\n",
      "3\n",
      "3\n",
      "1\n",
      "3\n",
      "1\n",
      "2\n",
      "odd:  5\n",
      "even: 5\n"
     ]
    }
   ],
   "source": [
    "odd  = 0\n",
    "even = 0\n",
    "for i in range(0, 10):\n",
    "    num = random.randint(1, 4)\n",
    "    print(num)\n",
    "    if(num%2==0):\n",
    "        even = even + 1\n",
    "    else:\n",
    "        odd = odd + 1\n",
    "print(\"odd: \", odd)\n",
    "print(\"even:\", even)"
   ]
  },
  {
   "cell_type": "code",
   "execution_count": 36,
   "metadata": {},
   "outputs": [
    {
     "name": "stdout",
     "output_type": "stream",
     "text": [
      "2 是質數\n"
     ]
    }
   ],
   "source": [
    "num = 2\n",
    "sign = 0\n",
    "for i in range(2, num):\n",
    "    if(num%i == 0):\n",
    "        print(num, \"不是質數\")\n",
    "        sign = 1\n",
    "        break\n",
    "if(sign == 0 ):\n",
    "    print(num, \"是質數\")"
   ]
  },
  {
   "cell_type": "code",
   "execution_count": 37,
   "metadata": {},
   "outputs": [
    {
     "name": "stdout",
     "output_type": "stream",
     "text": [
      "2 是質數\n",
      "3 是質數\n",
      "4 不是質數\n",
      "5 是質數\n",
      "6 不是質數\n",
      "7 是質數\n",
      "8 不是質數\n",
      "9 不是質數\n",
      "10 不是質數\n"
     ]
    }
   ],
   "source": [
    "\n",
    "for num in range(2, 11):\n",
    "    sign = 0\n",
    "    for i in range(2, num):\n",
    "        if(num%i == 0):\n",
    "            print(num, \"不是質數\")\n",
    "            sign = 1\n",
    "            break\n",
    "    if(sign == 0 ):\n",
    "        print(num, \"是質數\")"
   ]
  },
  {
   "cell_type": "code",
   "execution_count": null,
   "metadata": {},
   "outputs": [],
   "source": [
    "    num = j\n",
    "    sign = 0\n",
    "    for i in range(2, num):\n",
    "        if(num%i == 0):\n",
    "            print(num, \"不是質數\")\n",
    "            sign = 1\n",
    "            break\n",
    "    if(sign == 0 ):\n",
    "        print(num, \"是質數\")"
   ]
  },
  {
   "cell_type": "code",
   "execution_count": 38,
   "metadata": {},
   "outputs": [],
   "source": [
    "import os"
   ]
  },
  {
   "cell_type": "code",
   "execution_count": 39,
   "metadata": {},
   "outputs": [
    {
     "data": {
      "text/plain": [
       "'C:\\\\Users\\\\user\\\\Documents'"
      ]
     },
     "execution_count": 39,
     "metadata": {},
     "output_type": "execute_result"
    }
   ],
   "source": [
    "os.getcwd()"
   ]
  },
  {
   "cell_type": "code",
   "execution_count": null,
   "metadata": {},
   "outputs": [],
   "source": []
  }
 ],
 "metadata": {
  "kernelspec": {
   "display_name": "Python 3",
   "language": "python",
   "name": "python3"
  },
  "language_info": {
   "codemirror_mode": {
    "name": "ipython",
    "version": 3
   },
   "file_extension": ".py",
   "mimetype": "text/x-python",
   "name": "python",
   "nbconvert_exporter": "python",
   "pygments_lexer": "ipython3",
   "version": "3.8.3"
  }
 },
 "nbformat": 4,
 "nbformat_minor": 4
}
